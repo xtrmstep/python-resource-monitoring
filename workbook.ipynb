{
 "cells": [
  {
   "cell_type": "code",
   "execution_count": null,
   "metadata": {},
   "outputs": [],
   "source": [
    "%load_ext memory_profiler"
   ]
  },
  {
   "cell_type": "code",
   "execution_count": null,
   "metadata": {},
   "outputs": [],
   "source": [
    "%%writefile memscript.py\n",
    "import pandas\n",
    "def my_func():\n",
    "    nan = pandas.np.NaN\n",
    "    df = pandas.DataFrame(data={'X': [1.5, 6.7, 2.4, nan],'Y': [1.1, nan, 8.7, nan],'Z': [5.0, 2.3, 10, 6.6]})\n",
    "    df['X*Y']=df['X']*df['Y']\n",
    "    df['d']=round(df['X*Y'])\n",
    "    d = df[['X', 'Y']]\n",
    "    return df"
   ]
  },
  {
   "cell_type": "code",
   "execution_count": null,
   "metadata": {},
   "outputs": [],
   "source": [
    "from memscript import my_func\n",
    "%mprun -T mprof0 -f my_func my_func()\n",
    "print(open('mprof0', 'r').read())"
   ]
  },
  {
   "cell_type": "code",
   "execution_count": null,
   "metadata": {},
   "outputs": [],
   "source": []
  }
 ],
 "metadata": {
  "kernelspec": {
   "display_name": "Python 3",
   "language": "python",
   "name": "python3"
  },
  "language_info": {
   "codemirror_mode": {
    "name": "ipython",
    "version": 3
   },
   "file_extension": ".py",
   "mimetype": "text/x-python",
   "name": "python",
   "nbconvert_exporter": "python",
   "pygments_lexer": "ipython3",
   "version": "3.6.4"
  }
 },
 "nbformat": 4,
 "nbformat_minor": 2
}
